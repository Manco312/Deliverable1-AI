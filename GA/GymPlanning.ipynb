{
 "cells": [
  {
   "cell_type": "markdown",
   "id": "b027d136",
   "metadata": {},
   "source": [
    "# Weekly Gym Planning - Genetic Algorithm\n",
    "\n",
    "Luciana Hoyos Pérez, Juan José Gómez Vélez and Santiago Manco Maya"
   ]
  },
  {
   "cell_type": "markdown",
   "id": "18c25880",
   "metadata": {},
   "source": [
    "## Problem definition"
   ]
  },
  {
   "cell_type": "code",
   "execution_count": 1,
   "id": "bdf8999e",
   "metadata": {},
   "outputs": [],
   "source": [
    "import random\n",
    "\n",
    "# Problem data\n",
    "\n",
    "muscular_groups = {\n",
    "    0: \"Rest\",\n",
    "    1: \"Back\",\n",
    "    2: \"Chest\",\n",
    "    3: \"Legs\",\n",
    "    4: \"Arms\",\n",
    "}\n",
    "\n",
    "def fitness(routine):\n",
    "    score = 100\n",
    "\n",
    "    # Check for 2 days of rest (preferred) but at least 1 day of rest\n",
    "    if routine.count(0) < 1:\n",
    "        score -= 50\n",
    "    if routine.count(0) < 2:\n",
    "        score -= 10\n",
    "\n",
    "    # Check for at least 1 day of each muscle group\n",
    "    for group in muscular_groups:\n",
    "        if group != 0 and routine.count(group) < 1:\n",
    "            score -= 20\n",
    "\n",
    "    # Not allow the same muscle group 2 days in a row\n",
    "    for i in range(len(routine) - 1):\n",
    "        if routine[i] == routine[i + 1] and routine[i] != 0:\n",
    "            score -= 40\n",
    "\n",
    "    # Check for at least 2 days of arms\n",
    "    if routine.count(4) < 2:\n",
    "        score -= 10\n",
    "    \n",
    "    return score"
   ]
  },
  {
   "cell_type": "markdown",
   "id": "cfc9d30c",
   "metadata": {},
   "source": [
    "## Population Generation"
   ]
  },
  {
   "cell_type": "code",
   "execution_count": 2,
   "id": "3b0c7278",
   "metadata": {},
   "outputs": [
    {
     "name": "stdout",
     "output_type": "stream",
     "text": [
      "[1, 1, 3, 1, 1, 4, 0] -> Fitness: -20\n",
      "[3, 0, 2, 1, 2, 2, 2] -> Fitness: -20\n",
      "[4, 2, 0, 3, 2, 2, 2] -> Fitness: -20\n",
      "[3, 1, 3, 0, 1, 1, 4] -> Fitness: 20\n",
      "[3, 1, 0, 1, 2, 2, 3] -> Fitness: 20\n",
      "[0, 4, 0, 1, 1, 1, 3] -> Fitness: -10\n",
      "[3, 0, 1, 2, 0, 2, 4] -> Fitness: 90\n",
      "[1, 3, 3, 0, 2, 2, 3] -> Fitness: -20\n",
      "[0, 2, 4, 1, 1, 1, 4] -> Fitness: -10\n",
      "[2, 4, 1, 4, 2, 2, 1] -> Fitness: -20\n",
      "[3, 1, 1, 1, 2, 2, 1] -> Fitness: -110\n",
      "[3, 2, 2, 3, 3, 0, 0] -> Fitness: -30\n",
      "[2, 2, 1, 4, 1, 3, 2] -> Fitness: -10\n",
      "[0, 0, 0, 1, 4, 1, 0] -> Fitness: 50\n",
      "[2, 1, 1, 0, 3, 1, 0] -> Fitness: 30\n",
      "[1, 4, 0, 4, 3, 0, 2] -> Fitness: 100\n",
      "[3, 2, 1, 1, 4, 1, 0] -> Fitness: 40\n",
      "[3, 0, 4, 3, 0, 4, 0] -> Fitness: 60\n",
      "[4, 3, 2, 1, 1, 2, 0] -> Fitness: 40\n",
      "[4, 2, 2, 1, 1, 3, 3] -> Fitness: -90\n"
     ]
    }
   ],
   "source": [
    "genes = list(muscular_groups.keys())\n",
    "\n",
    "num_days = 7\n",
    "\n",
    "def create_individual(num_days=7):\n",
    "    return [random.choice(genes) for _ in range(num_days)]\n",
    "\n",
    "def create_population(size=20):\n",
    "    return [create_individual() for _ in range(size)]\n",
    "\n",
    "population = create_population()\n",
    "\n",
    "for ind in population:\n",
    "    print(ind, \"-> Fitness:\", fitness(ind))\n"
   ]
  },
  {
   "cell_type": "markdown",
   "id": "76ff6b5e",
   "metadata": {},
   "source": [
    "## Selection, Cross and Mutation"
   ]
  },
  {
   "cell_type": "code",
   "execution_count": 3,
   "id": "7de1d151",
   "metadata": {},
   "outputs": [],
   "source": [
    "def selection(pop):\n",
    "    a, b = random.sample(pop, 2)\n",
    "    return a if fitness(a) > fitness(b) else b\n",
    "\n",
    "def crossover(p1, p2):\n",
    "    size = len(p1)\n",
    "    start, end = sorted(random.sample(range(size), 2))\n",
    "    child = p1[:start] + p2[start:end] + p1[end:]\n",
    "    return child\n",
    "\n",
    "def mutate(ind, prob=0.3):\n",
    "    if random.random() < prob:\n",
    "        i, j = random.sample(range(len(ind)), 2)\n",
    "        ind[i], ind[j] = ind[j], ind[i]\n",
    "    return ind"
   ]
  },
  {
   "cell_type": "markdown",
   "id": "ce66d11a",
   "metadata": {},
   "source": [
    "## Evolution"
   ]
  },
  {
   "cell_type": "code",
   "execution_count": 4,
   "id": "af4ceb4b",
   "metadata": {},
   "outputs": [
    {
     "name": "stdout",
     "output_type": "stream",
     "text": [
      "Gen  1: [1, 4, 0, 4, 3, 2, 0] | Fitness: 100\n",
      "Gen  2: [0, 2, 4, 3, 0, 1, 4] | Fitness: 100\n",
      "Gen  3: [3, 4, 0, 2, 1, 4, 0] | Fitness: 100\n",
      "Gen  4: [3, 4, 2, 1, 3, 4, 0] | Fitness: 90\n",
      "Gen  5: [4, 0, 2, 1, 3, 4, 0] | Fitness: 100\n",
      "Gen  6: [4, 2, 0, 1, 3, 4, 0] | Fitness: 100\n",
      "Gen  7: [4, 0, 0, 1, 3, 4, 2] | Fitness: 100\n",
      "Gen  8: [4, 0, 0, 1, 3, 4, 2] | Fitness: 100\n",
      "Gen  9: [0, 0, 4, 1, 3, 4, 2] | Fitness: 100\n",
      "Gen 10: [4, 0, 0, 1, 3, 4, 2] | Fitness: 100\n",
      "Gen 11: [4, 0, 0, 1, 3, 4, 2] | Fitness: 100\n",
      "Gen 12: [4, 2, 4, 1, 3, 0, 0] | Fitness: 100\n",
      "Gen 13: [4, 0, 0, 1, 3, 4, 2] | Fitness: 100\n",
      "Gen 14: [4, 0, 4, 1, 2, 0, 3] | Fitness: 100\n",
      "Gen 15: [4, 0, 2, 1, 3, 4, 0] | Fitness: 100\n",
      "Gen 16: [4, 0, 4, 3, 2, 1, 0] | Fitness: 100\n",
      "Gen 17: [4, 0, 0, 1, 2, 4, 3] | Fitness: 100\n",
      "Gen 18: [4, 0, 2, 1, 4, 3, 0] | Fitness: 100\n",
      "Gen 19: [4, 1, 0, 0, 2, 4, 3] | Fitness: 100\n",
      "Gen 20: [4, 0, 0, 1, 2, 4, 3] | Fitness: 100\n",
      "\n",
      "Best solution found: [4, 0, 0, 1, 2, 4, 3]\n",
      "Routine Summary:\n",
      "Day 1: Arms\n",
      "Day 2: Rest\n",
      "Day 3: Rest\n",
      "Day 4: Back\n",
      "Day 5: Chest\n",
      "Day 6: Arms\n",
      "Day 7: Legs\n"
     ]
    }
   ],
   "source": [
    "def evolve(population, generations=20):\n",
    "    for gen in range(generations):\n",
    "        new_pop = []\n",
    "        for _ in range(len(population)):\n",
    "            p1 = selection(population)\n",
    "            p2 = selection(population)\n",
    "            child = crossover(p1, p2)\n",
    "            child = mutate(child)\n",
    "            new_pop.append(child)\n",
    "        population = new_pop\n",
    "        best = max(population, key=fitness)\n",
    "        print(f\"Gen {gen+1:2d}: {best} | Fitness: {fitness(best)}\")\n",
    "    return best\n",
    "\n",
    "best = evolve(population)\n",
    "resumen = {f\"Day {i+1}\": muscular_groups[gene] for i, gene in enumerate(best)}\n",
    "\n",
    "print(\"\\nBest solution found:\", best)\n",
    "print(\"Routine Summary:\")\n",
    "for day, group in resumen.items():\n",
    "    print(f\"{day}: {group}\")    "
   ]
  }
 ],
 "metadata": {
  "kernelspec": {
   "display_name": "Python 3",
   "language": "python",
   "name": "python3"
  },
  "language_info": {
   "codemirror_mode": {
    "name": "ipython",
    "version": 3
   },
   "file_extension": ".py",
   "mimetype": "text/x-python",
   "name": "python",
   "nbconvert_exporter": "python",
   "pygments_lexer": "ipython3",
   "version": "3.13.6"
  }
 },
 "nbformat": 4,
 "nbformat_minor": 5
}
