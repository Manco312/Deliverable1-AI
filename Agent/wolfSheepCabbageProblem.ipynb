{
 "cells": [
  {
   "cell_type": "markdown",
   "id": "1abddb4d",
   "metadata": {},
   "source": [
    "# The Wold, Sheep and Cabbage Problem - Solved By BFS\n",
    "Luciana Hoyos Pérez, Juan José Gómez Velez and Santiago Manco Maya"
   ]
  },
  {
   "cell_type": "markdown",
   "id": "e7facc0b",
   "metadata": {},
   "source": [
    "### Import collections"
   ]
  },
  {
   "cell_type": "code",
   "execution_count": 37,
   "id": "6bd67983",
   "metadata": {},
   "outputs": [],
   "source": [
    "from collections import deque # Import deque for BFS implementation"
   ]
  },
  {
   "cell_type": "markdown",
   "id": "00d4e9ee",
   "metadata": {},
   "source": [
    "### Node Definition"
   ]
  },
  {
   "cell_type": "code",
   "execution_count": 38,
   "id": "71ca1cfb",
   "metadata": {},
   "outputs": [],
   "source": [
    "class Node: # Node class definition\n",
    "    def __init__(self, state, parent=None, action=None):\n",
    "        self.state = state # Current state of the node\n",
    "        self.parent = parent # Parent node from which this node was created\n",
    "        self.action = action # Action taken to reach this node"
   ]
  },
  {
   "cell_type": "markdown",
   "id": "40b1e26e",
   "metadata": {},
   "source": [
    "### Expand Function"
   ]
  },
  {
   "cell_type": "code",
   "execution_count": 39,
   "id": "0f239372",
   "metadata": {},
   "outputs": [],
   "source": [
    "def expand(problem, node):\n",
    "    s = node.state # current state of the node\n",
    "    # Generate successors of the current node\n",
    "    for action in problem.actions: # Get all possible actions from the current state\n",
    "        s_prime = problem.result(s, action) # Resulting state after applying the action\n",
    "        if s_prime is not None: # Check if the resulting state is valid\n",
    "            yield Node(state=s_prime, parent=node, action=action) # This creates a new node with the resulting state, the current node as parent, and the action taken to reach this state\n",
    "            # The yield statement allows this function to be a generator, producing one node at a time"
   ]
  },
  {
   "cell_type": "markdown",
   "id": "615c2ba7",
   "metadata": {},
   "source": [
    "### BFS Function"
   ]
  },
  {
   "cell_type": "code",
   "execution_count": 40,
   "id": "0fc68dea",
   "metadata": {},
   "outputs": [],
   "source": [
    "def breadth_first_search(problem):\n",
    "    node = Node(state=problem.initial) # Create the initial node with the problem's initial state\n",
    "    frontier = deque([node])  # Initialize the frontier with the initial node (using deque for efficient FIFO operations)\n",
    "    reached = {node.state} # Set to keep track of reached states to avoid duplicates\n",
    "    # If the initial state is the goal, return the initial node\n",
    "    if problem.is_goal(node.state):   # Check if the initial state is already a goal state\n",
    "      return node\n",
    "\n",
    "    while frontier:\n",
    "        node = frontier.popleft() # Dequeue the first node from the frontier\n",
    "\n",
    "        for child in expand(problem, node): # Generate successors of the current node\n",
    "            s = child.state\n",
    "            if problem.is_goal(s):\n",
    "                return child\n",
    "            if s not in reached: # Check if the state has not been reached before\n",
    "                reached.add(child.state)\n",
    "                frontier.append(child) # Add the child node to the frontier for further exploration\n",
    "\n",
    "    return None  # If no solution is found, return None"
   ]
  },
  {
   "cell_type": "markdown",
   "id": "9e433177",
   "metadata": {},
   "source": [
    "### Problem class"
   ]
  },
  {
   "cell_type": "code",
   "execution_count": 41,
   "id": "3a0833dc",
   "metadata": {},
   "outputs": [],
   "source": [
    "class Problem:\n",
    "    def __init__(self, initial, goal, actions, result, is_goal):\n",
    "        self.initial = initial # Initial state of the problem\n",
    "        self.goal = goal # Goal state of the problem\n",
    "        self.actions = actions # Function to get all possible actions from a state\n",
    "        self.result = result  # Function to get the resulting state after applying an action\n",
    "        self.is_goal = is_goal # Function to check if a state is the goal state"
   ]
  },
  {
   "cell_type": "markdown",
   "id": "23253115",
   "metadata": {},
   "source": [
    "### Problem definition"
   ]
  },
  {
   "cell_type": "code",
   "execution_count": 42,
   "id": "10463c59",
   "metadata": {},
   "outputs": [
    {
     "name": "stdout",
     "output_type": "stream",
     "text": [
      "Initial state: ('L', 'L', 'L', 'L')\n",
      "Action: move_sheep, State: ('L', 'R', 'L', 'R')\n",
      "Action: move_farmer, State: ('L', 'R', 'L', 'L')\n",
      "Action: move_wolf, State: ('R', 'R', 'L', 'R')\n",
      "Action: move_sheep, State: ('R', 'L', 'L', 'L')\n",
      "Action: move_cabbage, State: ('R', 'L', 'R', 'R')\n",
      "Action: move_farmer, State: ('R', 'L', 'R', 'L')\n",
      "Action: move_sheep, State: ('R', 'R', 'R', 'R')\n",
      "The farmer successfully transported all items to the other side!\n"
     ]
    }
   ],
   "source": [
    "def problem_definition():\n",
    "    initial = ('L', 'L', 'L', 'L') # Initial state: all items (wolf, sheep, cabbage, farmer) on the left side\n",
    "    goal = ('R', 'R', 'R', 'R') # Goal state: all items on the right side\n",
    "\n",
    "    def moveFunction(state, index=None):\n",
    "        new_state = list(state)\n",
    "\n",
    "        if index is not None:\n",
    "            # Move the specified item (wolf, sheep, or cabbage) with the farmer\n",
    "            if new_state[3] != new_state[index]:\n",
    "                return None  # Cannot move an item if it is not on the same side as the farmer\n",
    "            new_side = 'R' if new_state[3] == 'L' else 'L'\n",
    "            new_state[index] = new_side\n",
    "            new_state[3] = new_side\n",
    "        else:\n",
    "            # Move the farmer alone\n",
    "            new_side = 'R' if new_state[3] == 'L' else 'L'\n",
    "            new_state[3] = new_side\n",
    "\n",
    "        # Restrictions:\n",
    "        # Wolf and sheep together without the farmer\n",
    "        if new_state[0] == new_state[1] and new_state[3] != new_state[0]:\n",
    "            return None\n",
    "        # Sheep and cabbage together without the farmer\n",
    "        if new_state[1] == new_state[2] and new_state[3] != new_state[1]:\n",
    "            return None\n",
    "\n",
    "        return tuple(new_state)\n",
    "\n",
    "    \n",
    "    actions = [\"move_wolf\", \"move_sheep\", \"move_cabbage\", \"move_farmer\"]\n",
    "\n",
    "    def result(state, action):\n",
    "        if action == \"move_wolf\":\n",
    "            return moveFunction(state, 0)\n",
    "        elif action == \"move_sheep\":\n",
    "            return moveFunction(state, 1)\n",
    "        elif action == \"move_cabbage\":\n",
    "            return moveFunction(state, 2)\n",
    "        elif action == \"move_farmer\":\n",
    "            return moveFunction(state, None)\n",
    "\n",
    "    \n",
    "    def is_goal(state):\n",
    "        return state == goal\n",
    "\n",
    "    problem = Problem(initial, goal, actions, result, is_goal)\n",
    "\n",
    "    solution = breadth_first_search(problem) # Perform the breadth-first search to find a solution\n",
    "\n",
    "    def reconstruct_path(node):\n",
    "        path = []\n",
    "        while node.parent is not None:\n",
    "            path.append((node.action, node.state))\n",
    "            node = node.parent\n",
    "        return list(reversed(path))\n",
    "\n",
    "    if solution:\n",
    "        path = reconstruct_path(solution)\n",
    "        print(f\"Initial state: {initial}\")\n",
    "        for action, state in path:\n",
    "            print(f\"Action: {action}, State: {state}\") # Print each action and the resulting state\n",
    "        print(\"The farmer successfully transported all items to the other side!\")\n",
    "    else:\n",
    "        print(\"No solution found\")\n",
    "\n",
    "problem_definition()"
   ]
  }
 ],
 "metadata": {
  "kernelspec": {
   "display_name": "Python 3",
   "language": "python",
   "name": "python3"
  },
  "language_info": {
   "codemirror_mode": {
    "name": "ipython",
    "version": 3
   },
   "file_extension": ".py",
   "mimetype": "text/x-python",
   "name": "python",
   "nbconvert_exporter": "python",
   "pygments_lexer": "ipython3",
   "version": "3.13.6"
  }
 },
 "nbformat": 4,
 "nbformat_minor": 5
}
