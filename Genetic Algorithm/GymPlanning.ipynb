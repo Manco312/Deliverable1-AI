{
 "cells": [
  {
   "cell_type": "markdown",
   "id": "b027d136",
   "metadata": {},
   "source": [
    "# Weekly Gym Planning - Genetic Algorithm\n",
    "\n",
    "Luciana Hoyos Pérez, Juan José Gómez Vélez and Santiago Manco Maya"
   ]
  },
  {
   "cell_type": "markdown",
   "id": "18c25880",
   "metadata": {},
   "source": [
    "## Problem definition"
   ]
  },
  {
   "cell_type": "code",
   "execution_count": 9,
   "id": "bdf8999e",
   "metadata": {},
   "outputs": [],
   "source": [
    "import random\n",
    "\n",
    "# Problem data\n",
    "\n",
    "muscular_groups = {\n",
    "    0: \"Rest\",\n",
    "    1: \"Back\",\n",
    "    2: \"Chest\",\n",
    "    3: \"Legs\",\n",
    "    4: \"Arms\",\n",
    "}\n",
    "\n",
    "def fitness(routine):\n",
    "    score = 100\n",
    "\n",
    "    # Check for 2 days of rest (preferred) but at least 1 day of rest\n",
    "    if routine.count(0) < 1:\n",
    "        score -= 50\n",
    "    if routine.count(0) < 2:\n",
    "        score -= 10\n",
    "\n",
    "    # Check for at least 1 day of each muscle group\n",
    "    for group in muscular_groups:\n",
    "        if group != 0 and routine.count(group) < 1:\n",
    "            score -= 20\n",
    "\n",
    "    # Not allow the same muscle group 2 days in a row\n",
    "    for i in range(len(routine) - 1):\n",
    "        if routine[i] == routine[i + 1] and routine[i] != 0:\n",
    "            score -= 40\n",
    "\n",
    "    # Check for at least 2 days of arms\n",
    "    if routine.count(4) < 2:\n",
    "        score -= 10\n",
    "    \n",
    "    return score"
   ]
  },
  {
   "cell_type": "markdown",
   "id": "cfc9d30c",
   "metadata": {},
   "source": [
    "## Population Generation"
   ]
  },
  {
   "cell_type": "code",
   "execution_count": 10,
   "id": "3b0c7278",
   "metadata": {},
   "outputs": [
    {
     "name": "stdout",
     "output_type": "stream",
     "text": [
      "[0, 2, 1, 3, 0, 1, 1] -> Fitness: 30\n",
      "[0, 0, 0, 4, 1, 3, 0] -> Fitness: 70\n",
      "[2, 3, 2, 4, 1, 4, 1] -> Fitness: 40\n",
      "[4, 2, 2, 1, 4, 1, 3] -> Fitness: 0\n",
      "[0, 1, 2, 0, 0, 4, 0] -> Fitness: 70\n",
      "[4, 0, 1, 4, 2, 3, 2] -> Fitness: 90\n",
      "[0, 4, 2, 0, 2, 2, 0] -> Fitness: 10\n",
      "[0, 3, 4, 3, 2, 1, 4] -> Fitness: 90\n",
      "[1, 4, 2, 4, 1, 4, 1] -> Fitness: 20\n",
      "[4, 4, 3, 1, 1, 1, 2] -> Fitness: -80\n",
      "[2, 3, 2, 2, 1, 2, 0] -> Fitness: 20\n",
      "[4, 1, 1, 4, 4, 3, 2] -> Fitness: -40\n",
      "[2, 0, 4, 2, 1, 2, 1] -> Fitness: 60\n",
      "[1, 1, 3, 4, 1, 4, 0] -> Fitness: 30\n",
      "[0, 2, 2, 0, 2, 2, 1] -> Fitness: -30\n",
      "[0, 0, 2, 3, 1, 3, 0] -> Fitness: 70\n",
      "[3, 2, 2, 2, 4, 1, 0] -> Fitness: 0\n",
      "[0, 1, 4, 4, 0, 3, 1] -> Fitness: 40\n",
      "[3, 0, 0, 3, 2, 4, 4] -> Fitness: 40\n",
      "[3, 1, 4, 3, 4, 4, 4] -> Fitness: -60\n"
     ]
    }
   ],
   "source": [
    "genes = list(muscular_groups.keys())  # [0, 1, 2, 3]\n",
    "\n",
    "def create_individual(num_days=7):\n",
    "    return [random.choice(genes) for _ in range(num_days)]\n",
    "\n",
    "def create_population(size=20):\n",
    "    return [create_individual() for _ in range(size)]\n",
    "\n",
    "population = create_population()\n",
    "\n",
    "for ind in population:\n",
    "    print(ind, \"-> Fitness:\", fitness(ind))\n"
   ]
  }
 ],
 "metadata": {
  "kernelspec": {
   "display_name": "Python 3",
   "language": "python",
   "name": "python3"
  },
  "language_info": {
   "codemirror_mode": {
    "name": "ipython",
    "version": 3
   },
   "file_extension": ".py",
   "mimetype": "text/x-python",
   "name": "python",
   "nbconvert_exporter": "python",
   "pygments_lexer": "ipython3",
   "version": "3.13.2"
  }
 },
 "nbformat": 4,
 "nbformat_minor": 5
}
